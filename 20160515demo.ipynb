{
 "cells": [
  {
   "cell_type": "markdown",
   "metadata": {},
   "source": [
    "## 三大法人買賣超日報"
   ]
  },
  {
   "cell_type": "code",
   "execution_count": 11,
   "metadata": {
    "collapsed": true
   },
   "outputs": [],
   "source": [
    "from bs4 import BeautifulSoup as bs\n",
    "from datetime import datetime, timedelta\n",
    "import pandas as pd"
   ]
  },
  {
   "cell_type": "code",
   "execution_count": 12,
   "metadata": {
    "collapsed": true
   },
   "outputs": [],
   "source": [
    "url = 'http://www.twse.com.tw/ch/trading/fund/T86/T86.php'\n",
    "payload={\n",
    "'qdate':'105/05/13',\n",
    "'select2':'24',\n",
    "'sorting':'by_issue'    \n",
    "}"
   ]
  },
  {
   "cell_type": "code",
   "execution_count": 13,
   "metadata": {
    "collapsed": true
   },
   "outputs": [],
   "source": [
    "def getTWDate(dt):\n",
    "    year = int(dt.strftime('%Y')) - 1911\n",
    "    monthdate = dt.strftime('%m/%d')\n",
    "    ymd = '{}/{}'.format(year, monthdate)\n",
    "    return ymd\n",
    "\n",
    "def getTradingVolume(date):\n",
    "    payload['qdate'] = getTWDate(date)\n",
    "    res = requests.post(url, data=payload)    \n",
    "    soup = bs(res.text)\n",
    "    tb = soup.select('#tbl-sortable')[0]\n",
    "    dfs = pd.read_html(tb.prettify('utf-8'), encoding='utf-8')\n",
    "    stockdfs = dfs[0]\n",
    "    stockdfs['date'] = date.date()\n",
    "    return dfs[0]"
   ]
  },
  {
   "cell_type": "code",
   "execution_count": 14,
   "metadata": {
    "collapsed": false
   },
   "outputs": [
    {
     "name": "stderr",
     "output_type": "stream",
     "text": [
      "C:\\Anaconda2\\lib\\site-packages\\bs4\\__init__.py:166: UserWarning: No parser was explicitly specified, so I'm using the best available HTML parser for this system (\"lxml\"). This usually isn't a problem, but if you run this code on another system, or in a different virtual environment, it may use a different parser and behave differently.\n",
      "\n",
      "To get rid of this warning, change this:\n",
      "\n",
      " BeautifulSoup([your markup])\n",
      "\n",
      "to this:\n",
      "\n",
      " BeautifulSoup([your markup], \"lxml\")\n",
      "\n",
      "  markup_type=markup_type))\n"
     ]
    }
   ],
   "source": [
    "import requests\n",
    "\n",
    "currentdate = datetime.now()\n",
    "dfall = []\n",
    "for i in range(1,3):\n",
    "    ymd = currentdate - timedelta(days = i)\n",
    "    df = getTradingVolume(ymd)\n",
    "    dfall.append(df)"
   ]
  },
  {
   "cell_type": "code",
   "execution_count": 15,
   "metadata": {
    "collapsed": true
   },
   "outputs": [],
   "source": [
    "stockdf = pd.concat(dfall)"
   ]
  },
  {
   "cell_type": "markdown",
   "metadata": {},
   "source": [
    "## SQLite 操作\n",
    "不用安裝好像也可以直接用"
   ]
  },
  {
   "cell_type": "code",
   "execution_count": 3,
   "metadata": {
    "collapsed": true
   },
   "outputs": [],
   "source": [
    "import sqlite3 as lite\n",
    "con = lite.connect('finance2.sqlite')\n",
    "con.close()"
   ]
  },
  {
   "cell_type": "code",
   "execution_count": 6,
   "metadata": {
    "collapsed": false
   },
   "outputs": [
    {
     "name": "stdout",
     "output_type": "stream",
     "text": [
      "(u'3.6.21',)\n"
     ]
    }
   ],
   "source": [
    "import sqlite3 as lite\n",
    "con = lite.connect('finance2.sqlite')\n",
    "cur = con.cursor()\n",
    "cur.execute('SELECT SQLITE_VERSION()')\n",
    "data = cur.fetchone()\n",
    "print data\n",
    "con.close()"
   ]
  },
  {
   "cell_type": "code",
   "execution_count": 7,
   "metadata": {
    "collapsed": false
   },
   "outputs": [
    {
     "name": "stdout",
     "output_type": "stream",
     "text": [
      "[(u'0912173381', u'United State'), (u'0928375018', u'Tokyo Japan'), (u'0957209108', u'Taipei')]\n"
     ]
    }
   ],
   "source": [
    "import sqlite3 as lite\n",
    "con = lite.connect('finance2.sqlite')\n",
    "cur = con.cursor()\n",
    "\n",
    "cur.execute(\"DROP TABLE IF EXISTS PhoneAddress\") \n",
    "cur.execute(\"CREATE TABLE PhoneAddress(phone CHAR(10) PRIMARY KEY, address TEXT, name TEXT unique, age INT NOT NULL)\") \n",
    "cur.execute(\"INSERT INTO PhoneAddress VALUES('0912173381','United State','Jhon Doe',53)\") \n",
    "cur.execute(\"INSERT INTO PhoneAddress VALUES('0928375018','Tokyo Japan','MuMu Cat',6)\") \n",
    "cur.execute(\"INSERT INTO PhoneAddress VALUES('0957209108','Taipei','Richard',29)\") \n",
    "con.commit()\n",
    "cur.execute(\"SELECT phone,address FROM PhoneAddress\") \n",
    "\n",
    "data = cur.fetchall()\n",
    "print data\n",
    "con.close()"
   ]
  },
  {
   "cell_type": "code",
   "execution_count": 8,
   "metadata": {
    "collapsed": false
   },
   "outputs": [
    {
     "name": "stdout",
     "output_type": "stream",
     "text": [
      "0912173381 United State\n",
      "[(u'0928375018', u'Tokyo Japan'), (u'0957209108', u'Taipei')]\n"
     ]
    }
   ],
   "source": [
    "import sqlite3 as lite\n",
    "con = lite.connect('finance2.sqlite')\n",
    "cur = con.cursor()\n",
    "\n",
    "cur.execute(\"SELECT phone,address FROM PhoneAddress\") \n",
    "\n",
    "data = cur.fetchone()\n",
    "print data[0], data[1]\n",
    "\n",
    "data = cur.fetchall()\n",
    "print data\n",
    "con.close()"
   ]
  },
  {
   "cell_type": "code",
   "execution_count": 9,
   "metadata": {
    "collapsed": false,
    "scrolled": true
   },
   "outputs": [
    {
     "data": {
      "text/plain": [
       "['__add__',\n",
       " '__class__',\n",
       " '__contains__',\n",
       " '__delattr__',\n",
       " '__delitem__',\n",
       " '__delslice__',\n",
       " '__doc__',\n",
       " '__eq__',\n",
       " '__format__',\n",
       " '__ge__',\n",
       " '__getattribute__',\n",
       " '__getitem__',\n",
       " '__getslice__',\n",
       " '__gt__',\n",
       " '__hash__',\n",
       " '__iadd__',\n",
       " '__imul__',\n",
       " '__init__',\n",
       " '__iter__',\n",
       " '__le__',\n",
       " '__len__',\n",
       " '__lt__',\n",
       " '__mul__',\n",
       " '__ne__',\n",
       " '__new__',\n",
       " '__reduce__',\n",
       " '__reduce_ex__',\n",
       " '__repr__',\n",
       " '__reversed__',\n",
       " '__rmul__',\n",
       " '__setattr__',\n",
       " '__setitem__',\n",
       " '__setslice__',\n",
       " '__sizeof__',\n",
       " '__str__',\n",
       " '__subclasshook__',\n",
       " 'append',\n",
       " 'count',\n",
       " 'extend',\n",
       " 'index',\n",
       " 'insert',\n",
       " 'pop',\n",
       " 'remove',\n",
       " 'reverse',\n",
       " 'sort']"
      ]
     },
     "execution_count": 9,
     "metadata": {},
     "output_type": "execute_result"
    }
   ],
   "source": [
    "a = (1,2) #tuple方法比較少\n",
    "b = [1,2]\n",
    "dir(b)"
   ]
  },
  {
   "cell_type": "code",
   "execution_count": 16,
   "metadata": {
    "collapsed": false
   },
   "outputs": [
    {
     "data": {
      "text/html": [
       "<div>\n",
       "<table border=\"1\" class=\"dataframe\">\n",
       "  <thead>\n",
       "    <tr style=\"text-align: right;\">\n",
       "      <th></th>\n",
       "      <th>證券  代號</th>\n",
       "      <th>證券  名稱</th>\n",
       "      <th>外資  買進股數</th>\n",
       "      <th>外資  賣出股數</th>\n",
       "      <th>外資  買賣超股數</th>\n",
       "      <th>投信  買進股數</th>\n",
       "      <th>投信  賣出股數</th>\n",
       "      <th>投信  買賣超股數</th>\n",
       "      <th>自營商  買賣超股數</th>\n",
       "      <th>自營商  買進股數  (自行買賣)</th>\n",
       "      <th>自營商  賣出股數  (自行買賣)</th>\n",
       "      <th>自營商  買賣超股數  (自行買賣)</th>\n",
       "      <th>自營商  買進股數  (避險)</th>\n",
       "      <th>自營商  賣出股數  (避險)</th>\n",
       "      <th>自營商  買賣超股數  (避險)</th>\n",
       "      <th>三大法人  買賣超股數</th>\n",
       "      <th>date</th>\n",
       "    </tr>\n",
       "  </thead>\n",
       "  <tbody>\n",
       "    <tr>\n",
       "      <th>0</th>\n",
       "      <td>2408.0</td>\n",
       "      <td>南亞科</td>\n",
       "      <td>18079000.0</td>\n",
       "      <td>4097000.0</td>\n",
       "      <td>13982000.0</td>\n",
       "      <td>0.0</td>\n",
       "      <td>0.0</td>\n",
       "      <td>0.0</td>\n",
       "      <td>329000.0</td>\n",
       "      <td>317000.0</td>\n",
       "      <td>17000.0</td>\n",
       "      <td>300000.0</td>\n",
       "      <td>154000.0</td>\n",
       "      <td>125000.0</td>\n",
       "      <td>29000.0</td>\n",
       "      <td>14311000.0</td>\n",
       "      <td>2016-05-13</td>\n",
       "    </tr>\n",
       "    <tr>\n",
       "      <th>1</th>\n",
       "      <td>3474.0</td>\n",
       "      <td>華亞科</td>\n",
       "      <td>9560000.0</td>\n",
       "      <td>4665000.0</td>\n",
       "      <td>4895000.0</td>\n",
       "      <td>0.0</td>\n",
       "      <td>0.0</td>\n",
       "      <td>0.0</td>\n",
       "      <td>113000.0</td>\n",
       "      <td>201000.0</td>\n",
       "      <td>30000.0</td>\n",
       "      <td>171000.0</td>\n",
       "      <td>0.0</td>\n",
       "      <td>58000.0</td>\n",
       "      <td>-58000.0</td>\n",
       "      <td>5008000.0</td>\n",
       "      <td>2016-05-13</td>\n",
       "    </tr>\n",
       "    <tr>\n",
       "      <th>2</th>\n",
       "      <td>2449.0</td>\n",
       "      <td>京元電</td>\n",
       "      <td>8513011.0</td>\n",
       "      <td>4469755.0</td>\n",
       "      <td>4043256.0</td>\n",
       "      <td>58000.0</td>\n",
       "      <td>490000.0</td>\n",
       "      <td>-432000.0</td>\n",
       "      <td>472000.0</td>\n",
       "      <td>0.0</td>\n",
       "      <td>107000.0</td>\n",
       "      <td>-107000.0</td>\n",
       "      <td>1266000.0</td>\n",
       "      <td>687000.0</td>\n",
       "      <td>579000.0</td>\n",
       "      <td>4083256.0</td>\n",
       "      <td>2016-05-13</td>\n",
       "    </tr>\n",
       "    <tr>\n",
       "      <th>3</th>\n",
       "      <td>3413.0</td>\n",
       "      <td>京鼎</td>\n",
       "      <td>529000.0</td>\n",
       "      <td>24000.0</td>\n",
       "      <td>505000.0</td>\n",
       "      <td>0.0</td>\n",
       "      <td>0.0</td>\n",
       "      <td>0.0</td>\n",
       "      <td>-1000.0</td>\n",
       "      <td>0.0</td>\n",
       "      <td>1000.0</td>\n",
       "      <td>-1000.0</td>\n",
       "      <td>0.0</td>\n",
       "      <td>0.0</td>\n",
       "      <td>0.0</td>\n",
       "      <td>504000.0</td>\n",
       "      <td>2016-05-13</td>\n",
       "    </tr>\n",
       "    <tr>\n",
       "      <th>4</th>\n",
       "      <td>3016.0</td>\n",
       "      <td>嘉晶</td>\n",
       "      <td>440000.0</td>\n",
       "      <td>91000.0</td>\n",
       "      <td>349000.0</td>\n",
       "      <td>0.0</td>\n",
       "      <td>0.0</td>\n",
       "      <td>0.0</td>\n",
       "      <td>-12000.0</td>\n",
       "      <td>2000.0</td>\n",
       "      <td>14000.0</td>\n",
       "      <td>-12000.0</td>\n",
       "      <td>0.0</td>\n",
       "      <td>0.0</td>\n",
       "      <td>0.0</td>\n",
       "      <td>337000.0</td>\n",
       "      <td>2016-05-13</td>\n",
       "    </tr>\n",
       "  </tbody>\n",
       "</table>\n",
       "</div>"
      ],
      "text/plain": [
       "   證券  代號 證券  名稱    外資  買進股數   外資  賣出股數   外資  買賣超股數  投信  買進股數  投信  賣出股數  \\\n",
       "0  2408.0    南亞科  18079000.0  4097000.0  13982000.0       0.0       0.0   \n",
       "1  3474.0    華亞科   9560000.0  4665000.0   4895000.0       0.0       0.0   \n",
       "2  2449.0    京元電   8513011.0  4469755.0   4043256.0   58000.0  490000.0   \n",
       "3  3413.0     京鼎    529000.0    24000.0    505000.0       0.0       0.0   \n",
       "4  3016.0     嘉晶    440000.0    91000.0    349000.0       0.0       0.0   \n",
       "\n",
       "   投信  買賣超股數  自營商  買賣超股數  自營商  買進股數  (自行買賣)  自營商  賣出股數  (自行買賣)  \\\n",
       "0        0.0    329000.0           317000.0            17000.0   \n",
       "1        0.0    113000.0           201000.0            30000.0   \n",
       "2  -432000.0    472000.0                0.0           107000.0   \n",
       "3        0.0     -1000.0                0.0             1000.0   \n",
       "4        0.0    -12000.0             2000.0            14000.0   \n",
       "\n",
       "   自營商  買賣超股數  (自行買賣)  自營商  買進股數  (避險)  自營商  賣出股數  (避險)  自營商  買賣超股數  (避險)  \\\n",
       "0            300000.0         154000.0         125000.0           29000.0   \n",
       "1            171000.0              0.0          58000.0          -58000.0   \n",
       "2           -107000.0        1266000.0         687000.0          579000.0   \n",
       "3             -1000.0              0.0              0.0               0.0   \n",
       "4            -12000.0              0.0              0.0               0.0   \n",
       "\n",
       "   三大法人  買賣超股數        date  \n",
       "0   14311000.0  2016-05-13  \n",
       "1    5008000.0  2016-05-13  \n",
       "2    4083256.0  2016-05-13  \n",
       "3     504000.0  2016-05-13  \n",
       "4     337000.0  2016-05-13  "
      ]
     },
     "execution_count": 16,
     "metadata": {},
     "output_type": "execute_result"
    }
   ],
   "source": [
    "stockdf.head()"
   ]
  },
  {
   "cell_type": "code",
   "execution_count": 17,
   "metadata": {
    "collapsed": false
   },
   "outputs": [
    {
     "name": "stderr",
     "output_type": "stream",
     "text": [
      "C:\\Anaconda2\\lib\\site-packages\\pandas\\core\\generic.py:1160: UserWarning: The spaces in these column names will not be changed. In pandas versions < 0.14, spaces were converted to underscores.\n",
      "  chunksize=chunksize, dtype=dtype)\n"
     ]
    }
   ],
   "source": [
    "import sqlite3 as lite\n",
    "con = lite.connect('finance2.sqlite')\n",
    "stockdf.to_sql(name = 'trading_volume', index=False, con = con, if_exists=\"replace\")\n",
    "#con.commit()\n",
    "con.close()"
   ]
  },
  {
   "cell_type": "code",
   "execution_count": 18,
   "metadata": {
    "collapsed": true
   },
   "outputs": [],
   "source": [
    "#stockdf.head()\n",
    "#len(stockdf.columns)\n",
    "stockdf.columns = ['id', 'name', 'buy', 'sale', '4','5', '6', '7' '8','9','10','11','12', '13', '14', '15', '16', 'date']"
   ]
  },
  {
   "cell_type": "code",
   "execution_count": 19,
   "metadata": {
    "collapsed": true
   },
   "outputs": [],
   "source": [
    "with lite.connect('finance2.sqlite') as con:\n",
    "    stockdf.to_sql(name = 'trading_volume', index=False, con = con, if_exists=\"replace\")"
   ]
  },
  {
   "cell_type": "code",
   "execution_count": 20,
   "metadata": {
    "collapsed": false,
    "scrolled": true
   },
   "outputs": [
    {
     "data": {
      "text/html": [
       "<div>\n",
       "<table border=\"1\" class=\"dataframe\">\n",
       "  <thead>\n",
       "    <tr style=\"text-align: right;\">\n",
       "      <th></th>\n",
       "      <th>id</th>\n",
       "      <th>name</th>\n",
       "      <th>buy</th>\n",
       "      <th>sale</th>\n",
       "      <th>4</th>\n",
       "      <th>5</th>\n",
       "      <th>6</th>\n",
       "      <th>78</th>\n",
       "      <th>9</th>\n",
       "      <th>10</th>\n",
       "      <th>11</th>\n",
       "      <th>12</th>\n",
       "      <th>13</th>\n",
       "      <th>14</th>\n",
       "      <th>15</th>\n",
       "      <th>16</th>\n",
       "      <th>date</th>\n",
       "    </tr>\n",
       "  </thead>\n",
       "  <tbody>\n",
       "    <tr>\n",
       "      <th>0</th>\n",
       "      <td>2408.0</td>\n",
       "      <td>南亞科</td>\n",
       "      <td>18079000.0</td>\n",
       "      <td>4097000.0</td>\n",
       "      <td>13982000.0</td>\n",
       "      <td>0.0</td>\n",
       "      <td>0.0</td>\n",
       "      <td>0.0</td>\n",
       "      <td>329000.0</td>\n",
       "      <td>317000.0</td>\n",
       "      <td>17000.0</td>\n",
       "      <td>300000.0</td>\n",
       "      <td>154000.0</td>\n",
       "      <td>125000.0</td>\n",
       "      <td>29000.0</td>\n",
       "      <td>14311000.0</td>\n",
       "      <td>2016-05-13</td>\n",
       "    </tr>\n",
       "    <tr>\n",
       "      <th>1</th>\n",
       "      <td>3474.0</td>\n",
       "      <td>華亞科</td>\n",
       "      <td>9560000.0</td>\n",
       "      <td>4665000.0</td>\n",
       "      <td>4895000.0</td>\n",
       "      <td>0.0</td>\n",
       "      <td>0.0</td>\n",
       "      <td>0.0</td>\n",
       "      <td>113000.0</td>\n",
       "      <td>201000.0</td>\n",
       "      <td>30000.0</td>\n",
       "      <td>171000.0</td>\n",
       "      <td>0.0</td>\n",
       "      <td>58000.0</td>\n",
       "      <td>-58000.0</td>\n",
       "      <td>5008000.0</td>\n",
       "      <td>2016-05-13</td>\n",
       "    </tr>\n",
       "    <tr>\n",
       "      <th>2</th>\n",
       "      <td>2449.0</td>\n",
       "      <td>京元電</td>\n",
       "      <td>8513011.0</td>\n",
       "      <td>4469755.0</td>\n",
       "      <td>4043256.0</td>\n",
       "      <td>58000.0</td>\n",
       "      <td>490000.0</td>\n",
       "      <td>-432000.0</td>\n",
       "      <td>472000.0</td>\n",
       "      <td>0.0</td>\n",
       "      <td>107000.0</td>\n",
       "      <td>-107000.0</td>\n",
       "      <td>1266000.0</td>\n",
       "      <td>687000.0</td>\n",
       "      <td>579000.0</td>\n",
       "      <td>4083256.0</td>\n",
       "      <td>2016-05-13</td>\n",
       "    </tr>\n",
       "    <tr>\n",
       "      <th>3</th>\n",
       "      <td>3413.0</td>\n",
       "      <td>京鼎</td>\n",
       "      <td>529000.0</td>\n",
       "      <td>24000.0</td>\n",
       "      <td>505000.0</td>\n",
       "      <td>0.0</td>\n",
       "      <td>0.0</td>\n",
       "      <td>0.0</td>\n",
       "      <td>-1000.0</td>\n",
       "      <td>0.0</td>\n",
       "      <td>1000.0</td>\n",
       "      <td>-1000.0</td>\n",
       "      <td>0.0</td>\n",
       "      <td>0.0</td>\n",
       "      <td>0.0</td>\n",
       "      <td>504000.0</td>\n",
       "      <td>2016-05-13</td>\n",
       "    </tr>\n",
       "    <tr>\n",
       "      <th>4</th>\n",
       "      <td>3016.0</td>\n",
       "      <td>嘉晶</td>\n",
       "      <td>440000.0</td>\n",
       "      <td>91000.0</td>\n",
       "      <td>349000.0</td>\n",
       "      <td>0.0</td>\n",
       "      <td>0.0</td>\n",
       "      <td>0.0</td>\n",
       "      <td>-12000.0</td>\n",
       "      <td>2000.0</td>\n",
       "      <td>14000.0</td>\n",
       "      <td>-12000.0</td>\n",
       "      <td>0.0</td>\n",
       "      <td>0.0</td>\n",
       "      <td>0.0</td>\n",
       "      <td>337000.0</td>\n",
       "      <td>2016-05-13</td>\n",
       "    </tr>\n",
       "  </tbody>\n",
       "</table>\n",
       "</div>"
      ],
      "text/plain": [
       "       id name         buy       sale           4        5         6  \\\n",
       "0  2408.0  南亞科  18079000.0  4097000.0  13982000.0      0.0       0.0   \n",
       "1  3474.0  華亞科   9560000.0  4665000.0   4895000.0      0.0       0.0   \n",
       "2  2449.0  京元電   8513011.0  4469755.0   4043256.0  58000.0  490000.0   \n",
       "3  3413.0   京鼎    529000.0    24000.0    505000.0      0.0       0.0   \n",
       "4  3016.0   嘉晶    440000.0    91000.0    349000.0      0.0       0.0   \n",
       "\n",
       "         78         9        10        11        12         13        14  \\\n",
       "0       0.0  329000.0  317000.0   17000.0  300000.0   154000.0  125000.0   \n",
       "1       0.0  113000.0  201000.0   30000.0  171000.0        0.0   58000.0   \n",
       "2 -432000.0  472000.0       0.0  107000.0 -107000.0  1266000.0  687000.0   \n",
       "3       0.0   -1000.0       0.0    1000.0   -1000.0        0.0       0.0   \n",
       "4       0.0  -12000.0    2000.0   14000.0  -12000.0        0.0       0.0   \n",
       "\n",
       "         15          16        date  \n",
       "0   29000.0  14311000.0  2016-05-13  \n",
       "1  -58000.0   5008000.0  2016-05-13  \n",
       "2  579000.0   4083256.0  2016-05-13  \n",
       "3       0.0    504000.0  2016-05-13  \n",
       "4       0.0    337000.0  2016-05-13  "
      ]
     },
     "execution_count": 20,
     "metadata": {},
     "output_type": "execute_result"
    }
   ],
   "source": [
    "import pandas as pd\n",
    "with lite.connect('finance2.sqlite') as con:\n",
    "    df2 = pd.read_sql_query('select * from trading_volume', con)\n",
    "df2.head()"
   ]
  },
  {
   "cell_type": "code",
   "execution_count": 21,
   "metadata": {
    "collapsed": false
   },
   "outputs": [
    {
     "data": {
      "text/plain": [
       "Index([u'id', u'name', u'buy', u'sale', u'4', u'5', u'6', u'78', u'9', u'10',\n",
       "       u'11', u'12', u'13', u'14', u'15', u'16', u'date'],\n",
       "      dtype='object')"
      ]
     },
     "execution_count": 21,
     "metadata": {},
     "output_type": "execute_result"
    }
   ],
   "source": [
    "df2.columns"
   ]
  },
  {
   "cell_type": "code",
   "execution_count": 22,
   "metadata": {
    "collapsed": false,
    "scrolled": false
   },
   "outputs": [
    {
     "data": {
      "text/html": [
       "<div>\n",
       "<table border=\"1\" class=\"dataframe\">\n",
       "  <thead>\n",
       "    <tr style=\"text-align: right;\">\n",
       "      <th></th>\n",
       "      <th>id</th>\n",
       "      <th>name</th>\n",
       "    </tr>\n",
       "  </thead>\n",
       "  <tbody>\n",
       "    <tr>\n",
       "      <th>0</th>\n",
       "      <td>2408.0</td>\n",
       "      <td>南亞科</td>\n",
       "    </tr>\n",
       "    <tr>\n",
       "      <th>1</th>\n",
       "      <td>3474.0</td>\n",
       "      <td>華亞科</td>\n",
       "    </tr>\n",
       "    <tr>\n",
       "      <th>2</th>\n",
       "      <td>2449.0</td>\n",
       "      <td>京元電</td>\n",
       "    </tr>\n",
       "    <tr>\n",
       "      <th>3</th>\n",
       "      <td>3413.0</td>\n",
       "      <td>京鼎</td>\n",
       "    </tr>\n",
       "    <tr>\n",
       "      <th>4</th>\n",
       "      <td>3016.0</td>\n",
       "      <td>嘉晶</td>\n",
       "    </tr>\n",
       "    <tr>\n",
       "      <th>5</th>\n",
       "      <td>8016.0</td>\n",
       "      <td>矽創</td>\n",
       "    </tr>\n",
       "    <tr>\n",
       "      <th>6</th>\n",
       "      <td>2401.0</td>\n",
       "      <td>凌陽</td>\n",
       "    </tr>\n",
       "    <tr>\n",
       "      <th>7</th>\n",
       "      <td>2388.0</td>\n",
       "      <td>威盛</td>\n",
       "    </tr>\n",
       "    <tr>\n",
       "      <th>8</th>\n",
       "      <td>2337.0</td>\n",
       "      <td>旺宏</td>\n",
       "    </tr>\n",
       "    <tr>\n",
       "      <th>9</th>\n",
       "      <td>2379.0</td>\n",
       "      <td>瑞昱</td>\n",
       "    </tr>\n",
       "    <tr>\n",
       "      <th>10</th>\n",
       "      <td>3035.0</td>\n",
       "      <td>智原</td>\n",
       "    </tr>\n",
       "    <tr>\n",
       "      <th>11</th>\n",
       "      <td>2344.0</td>\n",
       "      <td>華邦電</td>\n",
       "    </tr>\n",
       "    <tr>\n",
       "      <th>12</th>\n",
       "      <td>3519.0</td>\n",
       "      <td>綠能</td>\n",
       "    </tr>\n",
       "    <tr>\n",
       "      <th>13</th>\n",
       "      <td>6239.0</td>\n",
       "      <td>力成</td>\n",
       "    </tr>\n",
       "    <tr>\n",
       "      <th>14</th>\n",
       "      <td>3189.0</td>\n",
       "      <td>景碩</td>\n",
       "    </tr>\n",
       "    <tr>\n",
       "      <th>15</th>\n",
       "      <td>3034.0</td>\n",
       "      <td>聯詠</td>\n",
       "    </tr>\n",
       "    <tr>\n",
       "      <th>16</th>\n",
       "      <td>2325.0</td>\n",
       "      <td>矽品</td>\n",
       "    </tr>\n",
       "    <tr>\n",
       "      <th>17</th>\n",
       "      <td>2311.0</td>\n",
       "      <td>日月光</td>\n",
       "    </tr>\n",
       "    <tr>\n",
       "      <th>18</th>\n",
       "      <td>2303.0</td>\n",
       "      <td>聯電</td>\n",
       "    </tr>\n",
       "    <tr>\n",
       "      <th>19</th>\n",
       "      <td>2330.0</td>\n",
       "      <td>台積電</td>\n",
       "    </tr>\n",
       "  </tbody>\n",
       "</table>\n",
       "</div>"
      ],
      "text/plain": [
       "        id name\n",
       "0   2408.0  南亞科\n",
       "1   3474.0  華亞科\n",
       "2   2449.0  京元電\n",
       "3   3413.0   京鼎\n",
       "4   3016.0   嘉晶\n",
       "5   8016.0   矽創\n",
       "6   2401.0   凌陽\n",
       "7   2388.0   威盛\n",
       "8   2337.0   旺宏\n",
       "9   2379.0   瑞昱\n",
       "10  3035.0   智原\n",
       "11  2344.0  華邦電\n",
       "12  3519.0   綠能\n",
       "13  6239.0   力成\n",
       "14  3189.0   景碩\n",
       "15  3034.0   聯詠\n",
       "16  2325.0   矽品\n",
       "17  2311.0  日月光\n",
       "18  2303.0   聯電\n",
       "19  2330.0  台積電"
      ]
     },
     "execution_count": 22,
     "metadata": {},
     "output_type": "execute_result"
    }
   ],
   "source": [
    "import pandas as pd\n",
    "with lite.connect('finance2.sqlite') as con:\n",
    "    df2 = pd.read_sql_query(\\\n",
    "        u\"select id, name from trading_volume where buy > 307000\", con)\n",
    "df2"
   ]
  },
  {
   "cell_type": "code",
   "execution_count": 25,
   "metadata": {
    "collapsed": false
   },
   "outputs": [],
   "source": [
    "df2.to_excel('test.xlsx')#匯出EXECEL\n",
    "#tab鍵可以提示\n",
    "#alt+enter 執行並增加一行"
   ]
  },
  {
   "cell_type": "code",
   "execution_count": 27,
   "metadata": {
    "collapsed": true
   },
   "outputs": [],
   "source": [
    "df3 = pd.read_excel('test.xlsx')"
   ]
  },
  {
   "cell_type": "code",
   "execution_count": 28,
   "metadata": {
    "collapsed": false
   },
   "outputs": [
    {
     "data": {
      "text/html": [
       "<div>\n",
       "<table border=\"1\" class=\"dataframe\">\n",
       "  <thead>\n",
       "    <tr style=\"text-align: right;\">\n",
       "      <th></th>\n",
       "      <th>id</th>\n",
       "      <th>name</th>\n",
       "    </tr>\n",
       "  </thead>\n",
       "  <tbody>\n",
       "    <tr>\n",
       "      <th>0</th>\n",
       "      <td>2408</td>\n",
       "      <td>南亞科</td>\n",
       "    </tr>\n",
       "    <tr>\n",
       "      <th>1</th>\n",
       "      <td>3474</td>\n",
       "      <td>華亞科</td>\n",
       "    </tr>\n",
       "    <tr>\n",
       "      <th>2</th>\n",
       "      <td>2449</td>\n",
       "      <td>京元電</td>\n",
       "    </tr>\n",
       "    <tr>\n",
       "      <th>3</th>\n",
       "      <td>3413</td>\n",
       "      <td>京鼎</td>\n",
       "    </tr>\n",
       "    <tr>\n",
       "      <th>4</th>\n",
       "      <td>3016</td>\n",
       "      <td>嘉晶</td>\n",
       "    </tr>\n",
       "    <tr>\n",
       "      <th>5</th>\n",
       "      <td>8016</td>\n",
       "      <td>矽創</td>\n",
       "    </tr>\n",
       "    <tr>\n",
       "      <th>6</th>\n",
       "      <td>2401</td>\n",
       "      <td>凌陽</td>\n",
       "    </tr>\n",
       "    <tr>\n",
       "      <th>7</th>\n",
       "      <td>2388</td>\n",
       "      <td>威盛</td>\n",
       "    </tr>\n",
       "    <tr>\n",
       "      <th>8</th>\n",
       "      <td>2337</td>\n",
       "      <td>旺宏</td>\n",
       "    </tr>\n",
       "    <tr>\n",
       "      <th>9</th>\n",
       "      <td>2379</td>\n",
       "      <td>瑞昱</td>\n",
       "    </tr>\n",
       "    <tr>\n",
       "      <th>10</th>\n",
       "      <td>3035</td>\n",
       "      <td>智原</td>\n",
       "    </tr>\n",
       "    <tr>\n",
       "      <th>11</th>\n",
       "      <td>2344</td>\n",
       "      <td>華邦電</td>\n",
       "    </tr>\n",
       "    <tr>\n",
       "      <th>12</th>\n",
       "      <td>3519</td>\n",
       "      <td>綠能</td>\n",
       "    </tr>\n",
       "    <tr>\n",
       "      <th>13</th>\n",
       "      <td>6239</td>\n",
       "      <td>力成</td>\n",
       "    </tr>\n",
       "    <tr>\n",
       "      <th>14</th>\n",
       "      <td>3189</td>\n",
       "      <td>景碩</td>\n",
       "    </tr>\n",
       "    <tr>\n",
       "      <th>15</th>\n",
       "      <td>3034</td>\n",
       "      <td>聯詠</td>\n",
       "    </tr>\n",
       "    <tr>\n",
       "      <th>16</th>\n",
       "      <td>2325</td>\n",
       "      <td>矽品</td>\n",
       "    </tr>\n",
       "    <tr>\n",
       "      <th>17</th>\n",
       "      <td>2311</td>\n",
       "      <td>日月光</td>\n",
       "    </tr>\n",
       "    <tr>\n",
       "      <th>18</th>\n",
       "      <td>2303</td>\n",
       "      <td>聯電</td>\n",
       "    </tr>\n",
       "    <tr>\n",
       "      <th>19</th>\n",
       "      <td>2330</td>\n",
       "      <td>台積電</td>\n",
       "    </tr>\n",
       "  </tbody>\n",
       "</table>\n",
       "</div>"
      ],
      "text/plain": [
       "      id name\n",
       "0   2408  南亞科\n",
       "1   3474  華亞科\n",
       "2   2449  京元電\n",
       "3   3413   京鼎\n",
       "4   3016   嘉晶\n",
       "5   8016   矽創\n",
       "6   2401   凌陽\n",
       "7   2388   威盛\n",
       "8   2337   旺宏\n",
       "9   2379   瑞昱\n",
       "10  3035   智原\n",
       "11  2344  華邦電\n",
       "12  3519   綠能\n",
       "13  6239   力成\n",
       "14  3189   景碩\n",
       "15  3034   聯詠\n",
       "16  2325   矽品\n",
       "17  2311  日月光\n",
       "18  2303   聯電\n",
       "19  2330  台積電"
      ]
     },
     "execution_count": 28,
     "metadata": {},
     "output_type": "execute_result"
    }
   ],
   "source": [
    "df3"
   ]
  },
  {
   "cell_type": "markdown",
   "metadata": {},
   "source": [
    "## 2330　102年第1季 IFRS 合併財務報表預覽"
   ]
  },
  {
   "cell_type": "code",
   "execution_count": 29,
   "metadata": {
    "collapsed": false
   },
   "outputs": [
    {
     "name": "stdout",
     "output_type": "stream",
     "text": [
      "ISO-8859-1\n",
      "big5\n"
     ]
    }
   ],
   "source": [
    "import requests\n",
    "url = 'http://mops.twse.com.tw/server-java/t164sb01'\n",
    "payload = {\n",
    "'step':'1',\n",
    "'CO_ID':'2330',\n",
    "'SYEAR':'2013',\n",
    "'SSEASON':'1',\n",
    "'REPORT_ID':'C'\n",
    "}\n",
    "res = requests.post(url, data= payload)\n",
    "print res.encoding\n",
    "res.encoding = 'big5'\n",
    "print res.encoding"
   ]
  },
  {
   "cell_type": "code",
   "execution_count": 32,
   "metadata": {
    "collapsed": true
   },
   "outputs": [],
   "source": [
    "from bs4 import BeautifulSoup as bs\n",
    "soup = bs(res.text)\n",
    "tb = soup.select('.result_table')[0]\n",
    "#print tb\n"
   ]
  },
  {
   "cell_type": "code",
   "execution_count": 33,
   "metadata": {
    "collapsed": true
   },
   "outputs": [],
   "source": [
    "import pandas as pd\n",
    "dfs = pd.read_html(tb.prettify('utf-8'), encoding = 'utf-8', header=0, skiprows=0)"
   ]
  },
  {
   "cell_type": "code",
   "execution_count": 34,
   "metadata": {
    "collapsed": true
   },
   "outputs": [],
   "source": [
    "stockdf = dfs[0]\n",
    "stockdf['stockno'] = '2330'\n",
    "import sqlite3 as lite\n",
    "with lite.connect('finance2.sqlite') as con:\n",
    "    stockdf.to_sql('ifrs', con = con, if_exists='replace')"
   ]
  },
  {
   "cell_type": "markdown",
   "metadata": {},
   "source": [
    "## 三大法人買賣明細資訊"
   ]
  },
  {
   "cell_type": "code",
   "execution_count": null,
   "metadata": {
    "collapsed": true
   },
   "outputs": [],
   "source": [
    "Document(Doc):\n",
    "requests    ------------> document: <html> data </html>\n",
    "100 * 3\n",
    "    \n",
    "AJAX(XHR):\n",
    "requests    ------------> document: <html></html>\n",
    "requests    ------------> javascript: $('html').html(data)\n",
    "requests    ------------> data: data\n",
    "2 + 1 + 100 * 1"
   ]
  },
  {
   "cell_type": "code",
   "execution_count": null,
   "metadata": {
    "collapsed": true
   },
   "outputs": [],
   "source": [
    "XML:\n",
    "<employee>\n",
    "    <name> qoo </name>\n",
    "    <age> 10 <age>\n",
    "</employee>\n",
    "\n",
    "JSON:\n",
    "{employee:{name:qoo, age:10}}"
   ]
  },
  {
   "cell_type": "code",
   "execution_count": 35,
   "metadata": {
    "collapsed": false
   },
   "outputs": [
    {
     "name": "stdout",
     "output_type": "stream",
     "text": [
      "<Response [200]>\n"
     ]
    }
   ],
   "source": [
    "import requests\n",
    "res = requests.get('http://www.tpex.org.tw/web/stock/3insti/daily_trade/3itrade_hedge_result.php?l=zh-tw&se=EW&t=D&d=105/05/10&_=1463283795803')\n",
    "print res"
   ]
  },
  {
   "cell_type": "code",
   "execution_count": 36,
   "metadata": {
    "collapsed": true
   },
   "outputs": [],
   "source": [
    "#print res.text\n",
    "import json\n",
    "jd = json.loads(res.text)\n",
    "#print jd['aaData']"
   ]
  },
  {
   "cell_type": "code",
   "execution_count": 37,
   "metadata": {
    "collapsed": false
   },
   "outputs": [
    {
     "data": {
      "text/html": [
       "<div>\n",
       "<table border=\"1\" class=\"dataframe\">\n",
       "  <thead>\n",
       "    <tr style=\"text-align: right;\">\n",
       "      <th></th>\n",
       "      <th>0</th>\n",
       "      <th>1</th>\n",
       "      <th>2</th>\n",
       "      <th>3</th>\n",
       "      <th>4</th>\n",
       "      <th>5</th>\n",
       "      <th>6</th>\n",
       "      <th>7</th>\n",
       "      <th>8</th>\n",
       "      <th>9</th>\n",
       "      <th>10</th>\n",
       "      <th>11</th>\n",
       "      <th>12</th>\n",
       "      <th>13</th>\n",
       "      <th>14</th>\n",
       "      <th>15</th>\n",
       "    </tr>\n",
       "  </thead>\n",
       "  <tbody>\n",
       "    <tr>\n",
       "      <th>0</th>\n",
       "      <td>006201</td>\n",
       "      <td>寶富櫃</td>\n",
       "      <td>0</td>\n",
       "      <td>0</td>\n",
       "      <td>0</td>\n",
       "      <td>0</td>\n",
       "      <td>0</td>\n",
       "      <td>0</td>\n",
       "      <td>-45,000</td>\n",
       "      <td>0</td>\n",
       "      <td>0</td>\n",
       "      <td>0</td>\n",
       "      <td>0</td>\n",
       "      <td>45,000</td>\n",
       "      <td>-45,000</td>\n",
       "      <td>-45,000</td>\n",
       "    </tr>\n",
       "    <tr>\n",
       "      <th>1</th>\n",
       "      <td>1258</td>\n",
       "      <td>F-其祥</td>\n",
       "      <td>3,000</td>\n",
       "      <td>0</td>\n",
       "      <td>3,000</td>\n",
       "      <td>0</td>\n",
       "      <td>0</td>\n",
       "      <td>0</td>\n",
       "      <td>-1,000</td>\n",
       "      <td>0</td>\n",
       "      <td>1,000</td>\n",
       "      <td>-1,000</td>\n",
       "      <td>0</td>\n",
       "      <td>0</td>\n",
       "      <td>0</td>\n",
       "      <td>2,000</td>\n",
       "    </tr>\n",
       "    <tr>\n",
       "      <th>2</th>\n",
       "      <td>1259</td>\n",
       "      <td>安心</td>\n",
       "      <td>14,000</td>\n",
       "      <td>0</td>\n",
       "      <td>14,000</td>\n",
       "      <td>0</td>\n",
       "      <td>0</td>\n",
       "      <td>0</td>\n",
       "      <td>0</td>\n",
       "      <td>0</td>\n",
       "      <td>0</td>\n",
       "      <td>0</td>\n",
       "      <td>0</td>\n",
       "      <td>0</td>\n",
       "      <td>0</td>\n",
       "      <td>14,000</td>\n",
       "    </tr>\n",
       "    <tr>\n",
       "      <th>3</th>\n",
       "      <td>1264</td>\n",
       "      <td>德麥</td>\n",
       "      <td>4,000</td>\n",
       "      <td>1,000</td>\n",
       "      <td>3,000</td>\n",
       "      <td>0</td>\n",
       "      <td>0</td>\n",
       "      <td>0</td>\n",
       "      <td>0</td>\n",
       "      <td>0</td>\n",
       "      <td>0</td>\n",
       "      <td>0</td>\n",
       "      <td>0</td>\n",
       "      <td>0</td>\n",
       "      <td>0</td>\n",
       "      <td>3,000</td>\n",
       "    </tr>\n",
       "    <tr>\n",
       "      <th>4</th>\n",
       "      <td>1565</td>\n",
       "      <td>精華</td>\n",
       "      <td>148,000</td>\n",
       "      <td>136,000</td>\n",
       "      <td>12,000</td>\n",
       "      <td>0</td>\n",
       "      <td>0</td>\n",
       "      <td>0</td>\n",
       "      <td>-1,000</td>\n",
       "      <td>0</td>\n",
       "      <td>0</td>\n",
       "      <td>0</td>\n",
       "      <td>1,000</td>\n",
       "      <td>2,000</td>\n",
       "      <td>-1,000</td>\n",
       "      <td>11,000</td>\n",
       "    </tr>\n",
       "  </tbody>\n",
       "</table>\n",
       "</div>"
      ],
      "text/plain": [
       "        0       1                  2                  3                  4   \\\n",
       "0  006201    寶富櫃                    0                  0                  0   \n",
       "1  1258     F-其祥                3,000                  0              3,000   \n",
       "2  1259     安心                 14,000                  0             14,000   \n",
       "3  1264     德麥                  4,000              1,000              3,000   \n",
       "4  1565     精華                148,000            136,000             12,000   \n",
       "\n",
       "                  5                  6                  7                  8   \\\n",
       "0                  0                  0                  0            -45,000   \n",
       "1                  0                  0                  0             -1,000   \n",
       "2                  0                  0                  0                  0   \n",
       "3                  0                  0                  0                  0   \n",
       "4                  0                  0                  0             -1,000   \n",
       "\n",
       "                  9                  10                 11                 12  \\\n",
       "0                  0                  0                  0                  0   \n",
       "1                  0              1,000             -1,000                  0   \n",
       "2                  0                  0                  0                  0   \n",
       "3                  0                  0                  0                  0   \n",
       "4                  0                  0                  0              1,000   \n",
       "\n",
       "                  13                 14                 15  \n",
       "0             45,000            -45,000            -45,000  \n",
       "1                  0                  0              2,000  \n",
       "2                  0                  0             14,000  \n",
       "3                  0                  0              3,000  \n",
       "4              2,000             -1,000             11,000  "
      ]
     },
     "execution_count": 37,
     "metadata": {},
     "output_type": "execute_result"
    }
   ],
   "source": [
    "import pandas as pd\n",
    "df = pd.DataFrame(jd['aaData'])\n",
    "df.head()"
   ]
  },
  {
   "cell_type": "code",
   "execution_count": null,
   "metadata": {
    "collapsed": true
   },
   "outputs": [],
   "source": []
  },
  {
   "cell_type": "code",
   "execution_count": null,
   "metadata": {
    "collapsed": true
   },
   "outputs": [],
   "source": []
  }
 ],
 "metadata": {
  "kernelspec": {
   "display_name": "Python 2",
   "language": "python",
   "name": "python2"
  },
  "language_info": {
   "codemirror_mode": {
    "name": "ipython",
    "version": 2
   },
   "file_extension": ".py",
   "mimetype": "text/x-python",
   "name": "python",
   "nbconvert_exporter": "python",
   "pygments_lexer": "ipython2",
   "version": "2.7.11"
  }
 },
 "nbformat": 4,
 "nbformat_minor": 0
}
